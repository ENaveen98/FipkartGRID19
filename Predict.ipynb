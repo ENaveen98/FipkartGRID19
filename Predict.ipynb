{
 "cells": [
  {
   "cell_type": "code",
   "execution_count": 1,
   "metadata": {
    "collapsed": false
   },
   "outputs": [
    {
     "name": "stderr",
     "output_type": "stream",
     "text": [
      "Using TensorFlow backend.\n"
     ]
    }
   ],
   "source": [
    "import shutil\n",
    "import os\n",
    "\n",
    "import pandas as pd\n",
    "from sklearn.utils import shuffle\n",
    "import matplotlib.patches as patches\n",
    "from PIL import Image\n",
    "import matplotlib.pyplot as plt\n",
    "import tensorflow as tf\n",
    "import cv2\n",
    "\n",
    "\n",
    "import keras\n",
    "import keras.backend as K\n",
    "from keras.models import Model\n",
    "from keras import backend as K\n",
    "from keras.utils import np_utils\n",
    "from keras.optimizers import SGD, Adam\n",
    "from keras.datasets import cifar10\n",
    "from keras.layers.core import Layer\n",
    "from keras.models import model_from_json\n",
    "from keras.callbacks import LearningRateScheduler\n",
    "from keras.layers import Conv2D, MaxPool2D, Dropout, Dense, Input, concatenate, GlobalAveragePooling2D, AveragePooling2D,Flatten\n",
    "\n",
    "import numpy as np \n",
    "import math "
   ]
  },
  {
   "cell_type": "code",
   "execution_count": null,
   "metadata": {
    "collapsed": false
   },
   "outputs": [],
   "source": [
    "#save test images in a separate folder (test_file)\n",
    "\n",
    "def save_test():\n",
    "    df_2 = pd.read_csv('test.csv')\n",
    "    testfileslist = df_2['image_name'].tolist()\n",
    "    testfileslist = [\"F:\\Flipkart Grid\\Round 2\\images/\" + s for s in testfileslist]\n",
    "    dest = \"test_file/\"\n",
    "    print(testfileslist[2990])\n",
    "    for file_name in testfileslist:\n",
    "        shutil.copy(file_name, dest)\n",
    "            \n",
    "save_test()"
   ]
  },
  {
   "cell_type": "code",
   "execution_count": 5,
   "metadata": {
    "collapsed": false
   },
   "outputs": [],
   "source": [
    "# Load the trained model and predict on test data\n",
    "\n",
    "initial_lrate = 0.025\n",
    "sgd = SGD(lr=initial_lrate, momentum=0.9, nesterov=False)\n",
    "json_file = open('model.json', 'r')\n",
    "model = json_file.read()\n",
    "json_file.close()\n",
    "model = model_from_json(model)\n",
    "model.load_weights('F:\\Flipkart Grid\\Round 2/model.h5')\n",
    "model.compile(loss='mean_absolute_error',  optimizer=sgd)"
   ]
  },
  {
   "cell_type": "code",
   "execution_count": null,
   "metadata": {
    "collapsed": false,
    "scrolled": true
   },
   "outputs": [],
   "source": [
    "#Function to load test data in batches\n",
    "\n",
    "def load_test_data(index, minibatchsize, testfileslist, last=False):\n",
    "    images = []\n",
    "    if last == False:\n",
    "          batchlist = testfileslist[index*minibatchsize:(index+1)*minibatchsize]\n",
    "    else:\n",
    "          batchlist = testfileslist[index*minibatchsize:]\n",
    "    for i,f in enumerate(batchlist):\n",
    "        image = Image.open(f)\n",
    "        image = image.resize((224, 224))\n",
    "        image = np.array(image)\n",
    "        images.append(image)\n",
    "    images = np.array(images)\n",
    "\n",
    "    X_train = images.astype('float32')\n",
    "    X_train = (X_train) / 255.0\n",
    "\n",
    "    return X_train\n",
    "\n",
    "# Function to get predictions from Test Data \n",
    "# Note=> (Please modify the path to the required one while predicting from another machine)\n",
    "def eval_test():\n",
    "    minibatchsize = 50\n",
    "    df_2 = pd.read_csv('test.csv')\n",
    "    testfileslist = df_2['image_name'].tolist()\n",
    "    testfileslist = [\"F:\\Flipkart Grid\\Round 2\\images/\" + s for s in testfileslist]\n",
    "\n",
    "    for j in range(1):\n",
    "        for i in range(int(len(testfileslist)/minibatchsize)):\n",
    "            X_test = load_test_data(i, minibatchsize, testfileslist, last = False)\n",
    "            predict = model.predict(X_test, batch_size=None, verbose=0, steps=None)            \n",
    "            if i ==0 : predcoords = predict\n",
    "            else: predcoords = np.concatenate((predcoords,predict),axis=1)\n",
    "            if i%10 == 0: print(np.shape(predcoords))\n",
    "    X_test = load_test_data(i, minibatchsize, testfileslist, last = True)\n",
    "    predict = model.predict(X_test, batch_size=None, verbose=0, steps=None)\n",
    "    predcoords = np.concatenate((predcoords,predict),axis=1)\n",
    "    \n",
    "    return predcoords\n",
    "\n",
    "testpredcoords = eval_test()"
   ]
  },
  {
   "cell_type": "code",
   "execution_count": 7,
   "metadata": {
    "collapsed": false,
    "scrolled": false
   },
   "outputs": [
    {
     "name": "stdout",
     "output_type": "stream",
     "text": [
      "                               image_name          x1          x2          y1  \\\n",
      "0               1474723840903DSC08089.png  230.964600  457.465820   87.566612   \n",
      "1        1473231475010DeeplearnS11276.png   69.967461  571.169250  140.875000   \n",
      "2  JPEG_20161205_135307_1000155917326.png  134.421707  496.897827   52.300659   \n",
      "3  JPEG_20160711_123440_1000518778437.png  225.641663  453.102692   93.387581   \n",
      "4   JPEG_20160803_115329_100034020722.png  123.702560  512.057495   33.830811   \n",
      "\n",
      "           y2  \n",
      "0  406.314606  \n",
      "1  345.206177  \n",
      "2  428.468903  \n",
      "3  414.372498  \n",
      "4  429.566223  \n"
     ]
    },
    {
     "data": {
      "text/plain": [
       "(2, 12865, 2)"
      ]
     },
     "execution_count": 7,
     "metadata": {},
     "output_type": "execute_result"
    }
   ],
   "source": [
    "#Convert Predictions to the required format and save as CSV file for submission\n",
    "\n",
    "def testcsv():\n",
    "    x1 = (testpredcoords[0,:,0]-(testpredcoords[1,:,0]/2))*640\n",
    "    y1 = (testpredcoords[0,:,1]-(testpredcoords[1,:,1]/2))*480\n",
    "    x2 = (testpredcoords[0,:,0]+(testpredcoords[1,:,0]/2))*640\n",
    "    y2 = (testpredcoords[0,:,1]+(testpredcoords[1,:,1]/2))*480\n",
    "    df_2 = pd.read_csv('test.csv')\n",
    "    testcsv = pd.DataFrame({'image_name':df_2['image_name'], 'x1':x1[:12815], 'y1':y1[:12815], 'x2':x2[:12815], 'y2':y2[:12815]})\n",
    "    testcsv.to_csv('test_submission.csv', index=False)\n",
    "    \n",
    "testcsv()"
   ]
  },
  {
   "cell_type": "code",
   "execution_count": null,
   "metadata": {
    "collapsed": true
   },
   "outputs": [],
   "source": [
    "# Plot the predictions on Test Data to check the Model\n",
    "\n",
    "def plot_image(i):\n",
    "    df_2 = pd.read_csv('test.csv')\n",
    "    testfileslist = df_2['image_name'].tolist()\n",
    "    testfileslist = [\"F:\\Flipkart Grid\\Round 2\\images/\" + s for s in testfileslist]\n",
    "    img = cv2.imread(testfileslist[i])\n",
    "    fig,ax = plt.subplots(1)\n",
    "    ax.imshow(img)\n",
    "    x = (testpredcoords[0][i][0]-(testpredcoords[1][i][0]/2))*640\n",
    "    y = (testpredcoords[0][i][1]-(testpredcoords[1][i][1]/2))*480\n",
    "    w = (testpredcoords[1][i][0])*640\n",
    "    h = (testpredcoords[1][i][1])*480\n",
    "    rect = patches.Rectangle((x,y),w,h,linewidth=1,edgecolor='g',facecolor='none')\n",
    "    ax.add_patch(rect)\n",
    "    plt.show()\n",
    "    \n",
    "plot_image(10)\n",
    "plot_image(20)\n",
    "plot_image(30)\n",
    "plot_image(40)"
   ]
  }
 ],
 "metadata": {
  "kernelspec": {
   "display_name": "Python [Root]",
   "language": "python",
   "name": "Python [Root]"
  },
  "language_info": {
   "codemirror_mode": {
    "name": "ipython",
    "version": 3
   },
   "file_extension": ".py",
   "mimetype": "text/x-python",
   "name": "python",
   "nbconvert_exporter": "python",
   "pygments_lexer": "ipython3",
   "version": "3.5.2"
  }
 },
 "nbformat": 4,
 "nbformat_minor": 0
}
